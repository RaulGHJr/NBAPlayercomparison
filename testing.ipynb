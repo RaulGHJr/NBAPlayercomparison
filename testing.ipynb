{
 "cells": [
  {
   "cell_type": "code",
   "execution_count": 70,
   "metadata": {},
   "outputs": [],
   "source": [
    "import pandas as pd\n",
    "import requests\n",
    "import json"
   ]
  },
  {
   "cell_type": "code",
   "execution_count": 84,
   "metadata": {},
   "outputs": [],
   "source": [
    "URL = 'https://nba-longevity.herokuapp.com/predict'\n",
    "URL2 = 'http://127.0.0.1:59744/predict'"
   ]
  },
  {
   "cell_type": "code",
   "execution_count": 79,
   "metadata": {},
   "outputs": [
    {
     "data": {
      "text/plain": [
       "'{\"Player\": \"Julius Randle\"}'"
      ]
     },
     "execution_count": 79,
     "metadata": {},
     "output_type": "execute_result"
    }
   ],
   "source": [
    "data = {'Player':'Julius Randle'}\n",
    "data = json.dumps(data)\n",
    "data"
   ]
  },
  {
   "cell_type": "code",
   "execution_count": 85,
   "metadata": {},
   "outputs": [
    {
     "name": "stdout",
     "output_type": "stream",
     "text": [
      "<!DOCTYPE HTML PUBLIC \"-//W3C//DTD HTML 3.2 Final//EN\">\n",
      "<title>500 Internal Server Error</title>\n",
      "<h1>Internal Server Error</h1>\n",
      "<p>The server encountered an internal error and was unable to complete your request. Either the server is overloaded or there is an error in the application.</p>\n",
      "\n"
     ]
    }
   ],
   "source": [
    "x = requests.post(URL2, data)\n",
    "\n",
    "\n",
    "print(x.text)"
   ]
  },
  {
   "cell_type": "code",
   "execution_count": 47,
   "metadata": {},
   "outputs": [
    {
     "data": {
      "text/html": [
       "<div>\n",
       "<style scoped>\n",
       "    .dataframe tbody tr th:only-of-type {\n",
       "        vertical-align: middle;\n",
       "    }\n",
       "\n",
       "    .dataframe tbody tr th {\n",
       "        vertical-align: top;\n",
       "    }\n",
       "\n",
       "    .dataframe thead th {\n",
       "        text-align: right;\n",
       "    }\n",
       "</style>\n",
       "<table border=\"1\" class=\"dataframe\">\n",
       "  <thead>\n",
       "    <tr style=\"text-align: right;\">\n",
       "      <th></th>\n",
       "      <th>Team</th>\n",
       "      <th>FG_Percentage</th>\n",
       "      <th>TP_Percentage</th>\n",
       "      <th>FT_Percentage</th>\n",
       "      <th>Minutes.per.Game</th>\n",
       "      <th>Points.per.Game</th>\n",
       "      <th>TRB.per.game</th>\n",
       "      <th>Assits.per.Game</th>\n",
       "      <th>WS_per_game</th>\n",
       "      <th>BPM</th>\n",
       "      <th>VORP</th>\n",
       "      <th>Player</th>\n",
       "    </tr>\n",
       "  </thead>\n",
       "  <tbody>\n",
       "    <tr>\n",
       "      <th>0</th>\n",
       "      <td>TOR</td>\n",
       "      <td>0.483</td>\n",
       "      <td>0.349</td>\n",
       "      <td>0.777</td>\n",
       "      <td>33.413317</td>\n",
       "      <td>14.983668</td>\n",
       "      <td>7.685930</td>\n",
       "      <td>3.443467</td>\n",
       "      <td>79.5</td>\n",
       "      <td>3.4</td>\n",
       "      <td>36.3</td>\n",
       "      <td>Marc Gasol</td>\n",
       "    </tr>\n",
       "    <tr>\n",
       "      <th>1</th>\n",
       "      <td>TOR</td>\n",
       "      <td>0.441</td>\n",
       "      <td>0.343</td>\n",
       "      <td>0.807</td>\n",
       "      <td>16.835938</td>\n",
       "      <td>7.089844</td>\n",
       "      <td>2.132812</td>\n",
       "      <td>1.214844</td>\n",
       "      <td>7.3</td>\n",
       "      <td>-1.4</td>\n",
       "      <td>0.6</td>\n",
       "      <td>Norman Powell</td>\n",
       "    </tr>\n",
       "    <tr>\n",
       "      <th>2</th>\n",
       "      <td>TOR</td>\n",
       "      <td>0.529</td>\n",
       "      <td>0.310</td>\n",
       "      <td>0.748</td>\n",
       "      <td>23.612903</td>\n",
       "      <td>10.165899</td>\n",
       "      <td>5.142857</td>\n",
       "      <td>1.976959</td>\n",
       "      <td>15.7</td>\n",
       "      <td>2.3</td>\n",
       "      <td>5.5</td>\n",
       "      <td>Pascal Siakam</td>\n",
       "    </tr>\n",
       "    <tr>\n",
       "      <th>3</th>\n",
       "      <td>TOR</td>\n",
       "      <td>0.461</td>\n",
       "      <td>0.350</td>\n",
       "      <td>0.600</td>\n",
       "      <td>20.204225</td>\n",
       "      <td>6.464789</td>\n",
       "      <td>2.732394</td>\n",
       "      <td>0.718310</td>\n",
       "      <td>5.0</td>\n",
       "      <td>-0.4</td>\n",
       "      <td>1.2</td>\n",
       "      <td>OG Anunoby</td>\n",
       "    </tr>\n",
       "    <tr>\n",
       "      <th>4</th>\n",
       "      <td>TOR</td>\n",
       "      <td>0.423</td>\n",
       "      <td>0.367</td>\n",
       "      <td>0.805</td>\n",
       "      <td>31.302217</td>\n",
       "      <td>14.442240</td>\n",
       "      <td>4.269545</td>\n",
       "      <td>6.102684</td>\n",
       "      <td>86.8</td>\n",
       "      <td>3.8</td>\n",
       "      <td>39.3</td>\n",
       "      <td>Kyle Lowry</td>\n",
       "    </tr>\n",
       "  </tbody>\n",
       "</table>\n",
       "</div>"
      ],
      "text/plain": [
       "  Team  FG_Percentage  TP_Percentage  FT_Percentage  Minutes.per.Game  \\\n",
       "0  TOR          0.483          0.349          0.777         33.413317   \n",
       "1  TOR          0.441          0.343          0.807         16.835938   \n",
       "2  TOR          0.529          0.310          0.748         23.612903   \n",
       "3  TOR          0.461          0.350          0.600         20.204225   \n",
       "4  TOR          0.423          0.367          0.805         31.302217   \n",
       "\n",
       "   Points.per.Game  TRB.per.game  Assits.per.Game  WS_per_game  BPM  VORP  \\\n",
       "0        14.983668      7.685930         3.443467         79.5  3.4  36.3   \n",
       "1         7.089844      2.132812         1.214844          7.3 -1.4   0.6   \n",
       "2        10.165899      5.142857         1.976959         15.7  2.3   5.5   \n",
       "3         6.464789      2.732394         0.718310          5.0 -0.4   1.2   \n",
       "4        14.442240      4.269545         6.102684         86.8  3.8  39.3   \n",
       "\n",
       "          Player  \n",
       "0     Marc Gasol  \n",
       "1  Norman Powell  \n",
       "2  Pascal Siakam  \n",
       "3     OG Anunoby  \n",
       "4     Kyle Lowry  "
      ]
     },
     "execution_count": 47,
     "metadata": {},
     "output_type": "execute_result"
    }
   ],
   "source": [
    "df = pd.read_csv('nbads.csv')\n",
    "df.head()"
   ]
  },
  {
   "cell_type": "code",
   "execution_count": 51,
   "metadata": {},
   "outputs": [
    {
     "ename": "TypeError",
     "evalue": "string indices must be integers",
     "output_type": "error",
     "traceback": [
      "\u001b[0;31m---------------------------------------------------------------------------\u001b[0m",
      "\u001b[0;31mTypeError\u001b[0m                                 Traceback (most recent call last)",
      "\u001b[0;32m<ipython-input-51-06e4e74f5be1>\u001b[0m in \u001b[0;36m<module>\u001b[0;34m()\u001b[0m\n\u001b[0;32m----> 1\u001b[0;31m \u001b[0mdata\u001b[0m\u001b[0;34m[\u001b[0m\u001b[0;34m'Player'\u001b[0m\u001b[0;34m]\u001b[0m\u001b[0;34m\u001b[0m\u001b[0m\n\u001b[0m",
      "\u001b[0;31mTypeError\u001b[0m: string indices must be integers"
     ]
    }
   ],
   "source": [
    "data['Player']"
   ]
  },
  {
   "cell_type": "code",
   "execution_count": null,
   "metadata": {},
   "outputs": [],
   "source": []
  }
 ],
 "metadata": {
  "kernelspec": {
   "display_name": "Python 3",
   "language": "python",
   "name": "python3"
  },
  "language_info": {
   "codemirror_mode": {
    "name": "ipython",
    "version": 3
   },
   "file_extension": ".py",
   "mimetype": "text/x-python",
   "name": "python",
   "nbconvert_exporter": "python",
   "pygments_lexer": "ipython3",
   "version": "3.6.5"
  }
 },
 "nbformat": 4,
 "nbformat_minor": 2
}
