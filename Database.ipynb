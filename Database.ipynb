{
 "cells": [
  {
   "cell_type": "code",
   "execution_count": 1,
   "metadata": {},
   "outputs": [],
   "source": [
    "from flask import Flask, request\n",
    "from flask_sqlalchemy import SQLAlchemy\n",
    "from sportsreference.nba.roster import Roster, Player\n",
    "from sportsreference.nba.player import AbstractPlayer\n",
    "from sportsreference.nba.teams import Teams\n",
    "import pandas as pd"
   ]
  },
  {
   "cell_type": "code",
   "execution_count": 2,
   "metadata": {},
   "outputs": [],
   "source": [
    "APP = Flask(__name__)\n",
    "APP.config['SQLALCHEMY_DATABASE_URI'] = 'sqlite:///nbadb.sqlite3'\n",
    "APP.config['SQLALCHEMY_TRACK_MODIFICATIONS'] = False\n",
    "DB = SQLAlchemy(APP)\n",
    "DB.init_app(APP)\n",
    "# engine = create_engine('sqlite:///current.sqlite3')\n",
    "# meta = MetaData(engine)"
   ]
  },
  {
   "cell_type": "code",
   "execution_count": 3,
   "metadata": {},
   "outputs": [],
   "source": [
    "class NBAPlayer(DB.Model):\n",
    "    __tablename__ = \"nba_players\"\n",
    "#     __table_args__ = {\"schema\": \"nbashcema\"}\n",
    "    ref_id = DB.Column(DB.String(10), primary_key=True, unique=True, nullable=False)\n",
    "    name = DB.Column(DB.String(30), nullable=False)\n",
    "    Team = DB.Column(DB.String(4), DB.ForeignKey(\"nba_teams.abbr\"), nullable=False)\n",
    "    FG_Pct = DB.Column(DB.Float, nullable=True)\n",
    "    TP_Pct = DB.Column(DB.Float, nullable=True)\n",
    "    FT_Pct = DB.Column(DB.Float, nullable=True)\n",
    "    Min_per_game = DB.Column(DB.Float, nullable=False)\n",
    "    Pts_per_game = DB.Column(DB.Float, nullable=False)\n",
    "    TRB_per_game = DB.Column(DB.Float, nullable=False)\n",
    "    Asts_per_game = DB.Column(DB.Float, nullable=False)\n",
    "    WS_per_game = DB.Column(DB.Float, nullable=True)\n",
    "    BPM = DB.Column(DB.Float, nullable=True)\n",
    "    VORP = DB.Column(DB.Float, nullable=True)\n",
    "    \n",
    "    organization = DB.relationship(\"NBATeam\")\n",
    "    \n",
    "    def __repr__(self):\n",
    "        return '<NBAPlayer %r>' % self.username"
   ]
  },
  {
   "cell_type": "code",
   "execution_count": 4,
   "metadata": {},
   "outputs": [],
   "source": [
    "class NBATeam(DB.Model):\n",
    "    __tablename__ = \"nba_teams\"\n",
    "#     __table_args__ = {\"schema\": \"nbaschema\"}\n",
    "    abbr = DB.Column(DB.String(4), primary_key=True, unique=True, nullable=False)\n",
    "    name = DB.Column(DB.String(30), unique=True, nullable=False)\n",
    "    \n",
    "    def __repr__(self):\n",
    "        return '<NBATeam %r>' % self.name"
   ]
  },
  {
   "cell_type": "code",
   "execution_count": 5,
   "metadata": {},
   "outputs": [],
   "source": [
    "import itertools\n",
    "\n",
    "teams = Teams()\n",
    "teamabbs = []\n",
    "squadIDs=[]\n",
    "\n",
    "for team in teams:\n",
    "    teamabbs.append(team.abbreviation)\n",
    "\n",
    "for abb in teamabbs:\n",
    "    squad = Roster(abb, slim=True)\n",
    "    squaddict = squad.players\n",
    "    squadIDs.append(list(squaddict.keys()))\n",
    "\n",
    "mergedIDs = list(itertools.chain.from_iterable(squadIDs))"
   ]
  },
  {
   "cell_type": "code",
   "execution_count": 6,
   "metadata": {
    "collapsed": true
   },
   "outputs": [
    {
     "data": {
      "text/plain": [
       "['TOR',\n",
       " 'MIN',\n",
       " 'BRK',\n",
       " 'CHO',\n",
       " 'CHI',\n",
       " 'PHO',\n",
       " 'NOP',\n",
       " 'SAS',\n",
       " 'MIA',\n",
       " 'DET',\n",
       " 'LAC',\n",
       " 'NYK',\n",
       " 'IND',\n",
       " 'DEN',\n",
       " 'DAL',\n",
       " 'PHI',\n",
       " 'LAL',\n",
       " 'MEM',\n",
       " 'UTA',\n",
       " 'POR',\n",
       " 'WAS',\n",
       " 'OKC',\n",
       " 'SAC',\n",
       " 'ORL',\n",
       " 'BOS',\n",
       " 'CLE',\n",
       " 'MIL',\n",
       " 'HOU',\n",
       " 'GSW',\n",
       " 'ATL']"
      ]
     },
     "execution_count": 6,
     "metadata": {},
     "output_type": "execute_result"
    }
   ],
   "source": [
    "teamabbs"
   ]
  },
  {
   "cell_type": "code",
   "execution_count": 7,
   "metadata": {
    "collapsed": true
   },
   "outputs": [
    {
     "data": {
      "text/plain": [
       "['gasolma01',\n",
       " 'powelno01',\n",
       " 'siakapa01',\n",
       " 'anunoog01',\n",
       " 'lowryky01',\n",
       " 'ibakase01',\n",
       " 'vanvlfr01',\n",
       " 'bouchch01',\n",
       " 'millema01',\n",
       " 'hernade01',\n",
       " 'mccawpa01',\n",
       " 'johnsst04',\n",
       " 'holliro01',\n",
       " 'brissos01',\n",
       " 'thomama02',\n",
       " 'daviste02',\n",
       " 'pondssh01',\n",
       " 'dienggo01',\n",
       " 'teaguje01',\n",
       " 'wiggian01',\n",
       " 'covinro01',\n",
       " 'okogijo01',\n",
       " 'bateske01',\n",
       " 'napiesh01',\n",
       " 'grahatr01']"
      ]
     },
     "execution_count": 7,
     "metadata": {},
     "output_type": "execute_result"
    }
   ],
   "source": [
    "mergedIDs[:25]"
   ]
  },
  {
   "cell_type": "code",
   "execution_count": 9,
   "metadata": {},
   "outputs": [],
   "source": [
    "def add_teams(teams):\n",
    "    for team in teams:\n",
    "        nbateam = NBATeam(abbr=team.abbreviation,\n",
    "                          name=team.name)\n",
    "        DB.session.add(nbateam)\n",
    "    DB.session.commit()\n"
   ]
  },
  {
   "cell_type": "code",
   "execution_count": 10,
   "metadata": {},
   "outputs": [],
   "source": [
    "def add_players(mergedIDs):\n",
    "    for ref in mergedIDs:\n",
    "#         print(ref)\n",
    "        player = Player(ref)\n",
    "        if hasattr(player, 'points') and player.games_played is not None:\n",
    "#             print(ref, 'Has Atts. & games')\n",
    "            x1 = player.field_goal_percentage\n",
    "            x2 = player.three_point_percentage\n",
    "            x3 = player.free_throw_percentage\n",
    "            x4 = player.minutes_played/player.games_played\n",
    "            x5 = player.points/player.games_played\n",
    "            x6 = player.total_rebounds/player.games_played\n",
    "            x7 = player.assists/player.games_played\n",
    "            x8 = player.win_shares\n",
    "            x9 = player.box_plus_minus\n",
    "            x10 = player.value_over_replacement_player\n",
    "\n",
    "            nbaplayer = NBAPlayer(ref_id=player.player_id,\n",
    "                                  name=player.name,\n",
    "                                  Team=player('2019-20').team_abbreviation,\n",
    "                                  FG_Pct=x1,\n",
    "                                  TP_Pct=x2,\n",
    "                                  FT_Pct=x3,\n",
    "                                  Min_per_game=x4,\n",
    "                                  Pts_per_game=x5,\n",
    "                                  TRB_per_game=x6,\n",
    "                                  Asts_per_game=x7,\n",
    "                                  WS_per_game=x8,\n",
    "                                  BPM=x9,\n",
    "                                  VORP=x10\n",
    "                                  )\n",
    "            DB.session.add(nbaplayer)\n",
    "            DB.session.commit()"
   ]
  },
  {
   "cell_type": "code",
   "execution_count": 11,
   "metadata": {},
   "outputs": [],
   "source": [
    "DB.create_all()\n",
    "\n",
    "add_teams(teams)"
   ]
  },
  {
   "cell_type": "code",
   "execution_count": 12,
   "metadata": {
    "scrolled": true
   },
   "outputs": [],
   "source": [
    "add_players(mergedIDs)"
   ]
  },
  {
   "cell_type": "code",
   "execution_count": null,
   "metadata": {},
   "outputs": [],
   "source": [
    "############################################\n",
    "############################################"
   ]
  },
  {
   "cell_type": "code",
   "execution_count": null,
   "metadata": {},
   "outputs": [],
   "source": [
    "# Everything below this line was test code"
   ]
  },
  {
   "cell_type": "code",
   "execution_count": 13,
   "metadata": {},
   "outputs": [
    {
     "data": {
      "text/plain": [
       "['and_ones',\n",
       " 'assist_percentage',\n",
       " 'assists',\n",
       " 'block_percentage',\n",
       " 'blocking_fouls',\n",
       " 'blocks',\n",
       " 'box_plus_minus',\n",
       " 'center_percentage',\n",
       " 'defensive_box_plus_minus',\n",
       " 'defensive_rebound_percentage',\n",
       " 'defensive_rebounds',\n",
       " 'defensive_win_shares',\n",
       " 'dunks',\n",
       " 'effective_field_goal_percentage',\n",
       " 'field_goal_attempts',\n",
       " 'field_goal_perc_sixteen_foot_plus_two_pointers',\n",
       " 'field_goal_perc_ten_to_sixteen_feet',\n",
       " 'field_goal_perc_three_to_ten_feet',\n",
       " 'field_goal_perc_zero_to_three_feet',\n",
       " 'field_goal_percentage',\n",
       " 'field_goals',\n",
       " 'free_throw_attempt_rate',\n",
       " 'free_throw_attempts',\n",
       " 'free_throw_percentage',\n",
       " 'free_throws',\n",
       " 'games_played',\n",
       " 'games_started',\n",
       " 'half_court_heaves',\n",
       " 'half_court_heaves_made',\n",
       " 'height',\n",
       " 'lost_ball_turnovers',\n",
       " 'minutes_played',\n",
       " 'nationality',\n",
       " 'net_plus_minus',\n",
       " 'offensive_box_plus_minus',\n",
       " 'offensive_fouls',\n",
       " 'offensive_rebound_percentage',\n",
       " 'offensive_rebounds',\n",
       " 'offensive_win_shares',\n",
       " 'on_court_plus_minus',\n",
       " 'other_turnovers',\n",
       " 'passing_turnovers',\n",
       " 'percentage_field_goals_as_dunks',\n",
       " 'percentage_of_three_pointers_from_corner',\n",
       " 'percentage_shots_three_pointers',\n",
       " 'percentage_shots_two_pointers',\n",
       " 'percentage_sixteen_foot_plus_two_pointers',\n",
       " 'percentage_ten_to_sixteen_footers',\n",
       " 'percentage_three_to_ten_footers',\n",
       " 'percentage_zero_to_three_footers',\n",
       " 'personal_fouls',\n",
       " 'player_efficiency_rating',\n",
       " 'player_id',\n",
       " 'point_guard_percentage',\n",
       " 'points',\n",
       " 'points_generated_by_assists',\n",
       " 'position',\n",
       " 'power_forward_percentage',\n",
       " 'salary',\n",
       " 'shooting_distance',\n",
       " 'shooting_fouls',\n",
       " 'shooting_fouls_drawn',\n",
       " 'shooting_guard_percentage',\n",
       " 'shots_blocked',\n",
       " 'small_forward_percentage',\n",
       " 'steal_percentage',\n",
       " 'steals',\n",
       " 'take_fouls',\n",
       " 'team_abbreviation',\n",
       " 'three_point_attempt_rate',\n",
       " 'three_point_attempts',\n",
       " 'three_point_percentage',\n",
       " 'three_point_shot_percentage_from_corner',\n",
       " 'three_pointers',\n",
       " 'three_pointers_assisted_percentage',\n",
       " 'total_rebound_percentage',\n",
       " 'total_rebounds',\n",
       " 'true_shooting_percentage',\n",
       " 'turnover_percentage',\n",
       " 'turnovers',\n",
       " 'two_point_attempts',\n",
       " 'two_point_percentage',\n",
       " 'two_pointers',\n",
       " 'two_pointers_assisted_percentage',\n",
       " 'usage_percentage',\n",
       " 'value_over_replacement_player',\n",
       " 'weight',\n",
       " 'win_shares',\n",
       " 'win_shares_per_48_minutes']"
      ]
     },
     "execution_count": 13,
     "metadata": {},
     "output_type": "execute_result"
    }
   ],
   "source": [
    "crosscols = ['field_goal_percentage', 'three_point_percentage', 'minutes_played', 'points', 'total_rebounds', 'assists', 'games_played', 'win_shares' ,'box_plus_minus', 'value_over_replacement_player', 'name']\n",
    "\n",
    "list(Player('hardeja01').dataframe)"
   ]
  },
  {
   "cell_type": "code",
   "execution_count": 22,
   "metadata": {},
   "outputs": [
    {
     "name": "stderr",
     "output_type": "stream",
     "text": [
      "/home/cicbeast/anaconda3/lib/python3.6/site-packages/sqlalchemy/orm/session.py:521: SAWarning: Session's state has been changed on a non-active transaction - this state will be discarded.\n",
      "  \"Session's state has been changed on \"\n"
     ]
    }
   ],
   "source": [
    "DB.session.rollback()\n",
    "DB.drop_all()\n",
    "DB.metadata.clear()"
   ]
  },
  {
   "cell_type": "code",
   "execution_count": null,
   "metadata": {},
   "outputs": [],
   "source": [
    "minn = squadIDs[1]"
   ]
  },
  {
   "cell_type": "code",
   "execution_count": 12,
   "metadata": {},
   "outputs": [
    {
     "data": {
      "text/plain": [
       "['dienggo01',\n",
       " 'teaguje01',\n",
       " 'wiggian01',\n",
       " 'covinro01',\n",
       " 'okogijo01',\n",
       " 'bateske01',\n",
       " 'napiesh01',\n",
       " 'grahatr01',\n",
       " 'townska01',\n",
       " 'culveja01',\n",
       " 'laymaja01',\n",
       " 'vonleno01',\n",
       " 'mclaujo01',\n",
       " 'nowelja01',\n",
       " 'martike03',\n",
       " 'reidna01',\n",
       " 'belljo01']"
      ]
     },
     "execution_count": 12,
     "metadata": {},
     "output_type": "execute_result"
    }
   ],
   "source": [
    "minn"
   ]
  },
  {
   "cell_type": "code",
   "execution_count": 22,
   "metadata": {},
   "outputs": [],
   "source": [
    "retrocks = ['mingya01', 'olajuha01']"
   ]
  },
  {
   "cell_type": "code",
   "execution_count": 11,
   "metadata": {},
   "outputs": [],
   "source": [
    "# add_players(['mingya01'])"
   ]
  },
  {
   "cell_type": "code",
   "execution_count": null,
   "metadata": {},
   "outputs": [],
   "source": [
    "DB.session.rollback"
   ]
  },
  {
   "cell_type": "code",
   "execution_count": 11,
   "metadata": {},
   "outputs": [
    {
     "data": {
      "text/html": [
       "<div>\n",
       "<style scoped>\n",
       "    .dataframe tbody tr th:only-of-type {\n",
       "        vertical-align: middle;\n",
       "    }\n",
       "\n",
       "    .dataframe tbody tr th {\n",
       "        vertical-align: top;\n",
       "    }\n",
       "\n",
       "    .dataframe thead th {\n",
       "        text-align: right;\n",
       "    }\n",
       "</style>\n",
       "<table border=\"1\" class=\"dataframe\">\n",
       "  <thead>\n",
       "    <tr style=\"text-align: right;\">\n",
       "      <th></th>\n",
       "      <th>player_id</th>\n",
       "      <th>field_goal_percentage</th>\n",
       "      <th>three_point_percentage</th>\n",
       "      <th>minutes_played</th>\n",
       "      <th>points</th>\n",
       "      <th>total_rebounds</th>\n",
       "      <th>assists</th>\n",
       "      <th>games_played</th>\n",
       "      <th>win_shares</th>\n",
       "      <th>box_plus_minus</th>\n",
       "      <th>value_over_replacement_player</th>\n",
       "    </tr>\n",
       "  </thead>\n",
       "  <tbody>\n",
       "    <tr>\n",
       "      <th>Career</th>\n",
       "      <td>hardeja01</td>\n",
       "      <td>0.443</td>\n",
       "      <td>0.365</td>\n",
       "      <td>26106</td>\n",
       "      <td>18627</td>\n",
       "      <td>4000</td>\n",
       "      <td>4743</td>\n",
       "      <td>765</td>\n",
       "      <td>121.9</td>\n",
       "      <td>7.1</td>\n",
       "      <td>59.9</td>\n",
       "    </tr>\n",
       "    <tr>\n",
       "      <th>Career</th>\n",
       "      <td>walljo01</td>\n",
       "      <td>0.433</td>\n",
       "      <td>0.324</td>\n",
       "      <td>20545</td>\n",
       "      <td>10879</td>\n",
       "      <td>2483</td>\n",
       "      <td>5282</td>\n",
       "      <td>573</td>\n",
       "      <td>44.3</td>\n",
       "      <td>2.3</td>\n",
       "      <td>22.1</td>\n",
       "    </tr>\n",
       "  </tbody>\n",
       "</table>\n",
       "</div>"
      ],
      "text/plain": [
       "        player_id  field_goal_percentage  three_point_percentage  \\\n",
       "Career  hardeja01                  0.443                   0.365   \n",
       "Career   walljo01                  0.433                   0.324   \n",
       "\n",
       "        minutes_played  points  total_rebounds  assists  games_played  \\\n",
       "Career           26106   18627            4000     4743           765   \n",
       "Career           20545   10879            2483     5282           573   \n",
       "\n",
       "        win_shares  box_plus_minus  value_over_replacement_player  \n",
       "Career       121.9             7.1                           59.9  \n",
       "Career        44.3             2.3                           22.1  "
      ]
     },
     "execution_count": 11,
     "metadata": {},
     "output_type": "execute_result"
    }
   ],
   "source": [
    "columns = ['player_id', 'field_goal_percentage', 'three_point_percentage', 'minutes_played', 'points', 'total_rebounds', 'assists', 'games_played', 'win_shares' ,'box_plus_minus', 'value_over_replacement_player']\n",
    "\n",
    "blip = Player('hardeja01').dataframe[columns].tail(1)\n",
    "blip = blip.append(Player('walljo01').dataframe[columns].tail(1), )\n",
    "\n",
    "blip"
   ]
  },
  {
   "cell_type": "code",
   "execution_count": 29,
   "metadata": {},
   "outputs": [
    {
     "data": {
      "text/plain": [
       "4000"
      ]
     },
     "execution_count": 29,
     "metadata": {},
     "output_type": "execute_result"
    }
   ],
   "source": [
    "Player('hardeja01').total_rebounds"
   ]
  },
  {
   "cell_type": "code",
   "execution_count": 18,
   "metadata": {},
   "outputs": [
    {
     "data": {
      "text/html": [
       "<div>\n",
       "<style scoped>\n",
       "    .dataframe tbody tr th:only-of-type {\n",
       "        vertical-align: middle;\n",
       "    }\n",
       "\n",
       "    .dataframe tbody tr th {\n",
       "        vertical-align: top;\n",
       "    }\n",
       "\n",
       "    .dataframe thead th {\n",
       "        text-align: right;\n",
       "    }\n",
       "</style>\n",
       "<table border=\"1\" class=\"dataframe\">\n",
       "  <thead>\n",
       "    <tr style=\"text-align: right;\">\n",
       "      <th></th>\n",
       "      <th>ref_id</th>\n",
       "      <th>name</th>\n",
       "      <th>Team</th>\n",
       "      <th>FG_Pct</th>\n",
       "      <th>TP_Pct</th>\n",
       "      <th>FT_Pct</th>\n",
       "      <th>Min_per_game</th>\n",
       "      <th>Pts_per_game</th>\n",
       "      <th>TRB_per_game</th>\n",
       "      <th>Asts_per_game</th>\n",
       "      <th>WS_per_game</th>\n",
       "      <th>BPM</th>\n",
       "      <th>VORP</th>\n",
       "    </tr>\n",
       "  </thead>\n",
       "  <tbody>\n",
       "    <tr>\n",
       "      <th>0</th>\n",
       "      <td>gasolma01</td>\n",
       "      <td>Marc Gasol</td>\n",
       "      <td>TOR</td>\n",
       "      <td>0.483</td>\n",
       "      <td>0.349</td>\n",
       "      <td>0.777</td>\n",
       "      <td>33.413317</td>\n",
       "      <td>14.983668</td>\n",
       "      <td>7.685930</td>\n",
       "      <td>3.443467</td>\n",
       "      <td>79.5</td>\n",
       "      <td>3.4</td>\n",
       "      <td>36.3</td>\n",
       "    </tr>\n",
       "    <tr>\n",
       "      <th>1</th>\n",
       "      <td>powelno01</td>\n",
       "      <td>Norman Powell</td>\n",
       "      <td>TOR</td>\n",
       "      <td>0.441</td>\n",
       "      <td>0.343</td>\n",
       "      <td>0.807</td>\n",
       "      <td>16.835938</td>\n",
       "      <td>7.089844</td>\n",
       "      <td>2.132812</td>\n",
       "      <td>1.214844</td>\n",
       "      <td>7.3</td>\n",
       "      <td>-1.4</td>\n",
       "      <td>0.6</td>\n",
       "    </tr>\n",
       "    <tr>\n",
       "      <th>2</th>\n",
       "      <td>siakapa01</td>\n",
       "      <td>Pascal Siakam</td>\n",
       "      <td>TOR</td>\n",
       "      <td>0.529</td>\n",
       "      <td>0.310</td>\n",
       "      <td>0.748</td>\n",
       "      <td>23.612903</td>\n",
       "      <td>10.165899</td>\n",
       "      <td>5.142857</td>\n",
       "      <td>1.976959</td>\n",
       "      <td>15.7</td>\n",
       "      <td>2.3</td>\n",
       "      <td>5.5</td>\n",
       "    </tr>\n",
       "    <tr>\n",
       "      <th>3</th>\n",
       "      <td>anunoog01</td>\n",
       "      <td>OG Anunoby</td>\n",
       "      <td>TOR</td>\n",
       "      <td>0.461</td>\n",
       "      <td>0.350</td>\n",
       "      <td>0.600</td>\n",
       "      <td>20.204225</td>\n",
       "      <td>6.464789</td>\n",
       "      <td>2.732394</td>\n",
       "      <td>0.718310</td>\n",
       "      <td>5.0</td>\n",
       "      <td>-0.4</td>\n",
       "      <td>1.2</td>\n",
       "    </tr>\n",
       "    <tr>\n",
       "      <th>4</th>\n",
       "      <td>lowryky01</td>\n",
       "      <td>Kyle Lowry</td>\n",
       "      <td>TOR</td>\n",
       "      <td>0.423</td>\n",
       "      <td>0.367</td>\n",
       "      <td>0.805</td>\n",
       "      <td>31.302217</td>\n",
       "      <td>14.442240</td>\n",
       "      <td>4.269545</td>\n",
       "      <td>6.102684</td>\n",
       "      <td>86.8</td>\n",
       "      <td>3.8</td>\n",
       "      <td>39.3</td>\n",
       "    </tr>\n",
       "  </tbody>\n",
       "</table>\n",
       "</div>"
      ],
      "text/plain": [
       "      ref_id           name Team  FG_Pct  TP_Pct  FT_Pct  Min_per_game  \\\n",
       "0  gasolma01     Marc Gasol  TOR   0.483   0.349   0.777     33.413317   \n",
       "1  powelno01  Norman Powell  TOR   0.441   0.343   0.807     16.835938   \n",
       "2  siakapa01  Pascal Siakam  TOR   0.529   0.310   0.748     23.612903   \n",
       "3  anunoog01     OG Anunoby  TOR   0.461   0.350   0.600     20.204225   \n",
       "4  lowryky01     Kyle Lowry  TOR   0.423   0.367   0.805     31.302217   \n",
       "\n",
       "   Pts_per_game  TRB_per_game  Asts_per_game  WS_per_game  BPM  VORP  \n",
       "0     14.983668      7.685930       3.443467         79.5  3.4  36.3  \n",
       "1      7.089844      2.132812       1.214844          7.3 -1.4   0.6  \n",
       "2     10.165899      5.142857       1.976959         15.7  2.3   5.5  \n",
       "3      6.464789      2.732394       0.718310          5.0 -0.4   1.2  \n",
       "4     14.442240      4.269545       6.102684         86.8  3.8  39.3  "
      ]
     },
     "execution_count": 18,
     "metadata": {},
     "output_type": "execute_result"
    }
   ],
   "source": [
    "import sqlite3\n",
    "\n",
    "conn = sqlite3.connect('nbadb.sqlite3')\n",
    "cursor = conn.cursor()\n",
    "\n",
    "nbads = pd.read_sql(\"select * from nba_players;\", conn)\n",
    "\n",
    "nbads.head()"
   ]
  },
  {
   "cell_type": "code",
   "execution_count": null,
   "metadata": {},
   "outputs": [],
   "source": []
  },
  {
   "cell_type": "code",
   "execution_count": 14,
   "metadata": {},
   "outputs": [
    {
     "ename": "TypeError",
     "evalue": "function takes at least 1 argument (0 given)",
     "output_type": "error",
     "traceback": [
      "\u001b[0;31m---------------------------------------------------------------------------\u001b[0m",
      "\u001b[0;31mTypeError\u001b[0m                                 Traceback (most recent call last)",
      "\u001b[0;32m<ipython-input-14-d8518af3085f>\u001b[0m in \u001b[0;36m<module>\u001b[0;34m()\u001b[0m\n\u001b[1;32m      7\u001b[0m \u001b[0;34m\u001b[0m\u001b[0m\n\u001b[1;32m      8\u001b[0m \u001b[0mcursor\u001b[0m \u001b[0;34m=\u001b[0m \u001b[0mconn\u001b[0m\u001b[0;34m.\u001b[0m\u001b[0mcursor\u001b[0m\u001b[0;34m(\u001b[0m\u001b[0;34m)\u001b[0m\u001b[0;34m\u001b[0m\u001b[0m\n\u001b[0;32m----> 9\u001b[0;31m \u001b[0mcursor\u001b[0m\u001b[0;34m.\u001b[0m\u001b[0mexecute\u001b[0m\u001b[0;34m(\u001b[0m\u001b[0;34m)\u001b[0m\u001b[0;34m\u001b[0m\u001b[0m\n\u001b[0m",
      "\u001b[0;31mTypeError\u001b[0m: function takes at least 1 argument (0 given)"
     ]
    }
   ],
   "source": [
    "import csv\n",
    "import sqlite3\n",
    "from glob import glob\n",
    "from os.path import expanduser\n",
    "\n",
    "conn = sqlite3.connect(glob(expanduser('nbadb.sqlite3'))[0])\n",
    "\n",
    "cursor = conn.cursor()\n",
    "\n",
    "cursor.execute(\"select * from nba_players;\")\n",
    "\n",
    "with open(\"nbads\", \"w\", newline='') as csv_file:\n",
    "    "
   ]
  },
  {
   "cell_type": "code",
   "execution_count": null,
   "metadata": {},
   "outputs": [],
   "source": []
  },
  {
   "cell_type": "code",
   "execution_count": 24,
   "metadata": {},
   "outputs": [
    {
     "ename": "KeyError",
     "evalue": "\"None of [Index(['player_id', 'field_goal_percentage', 'three_point_percentage'], dtype='object')] are in the [columns]\"",
     "output_type": "error",
     "traceback": [
      "\u001b[0;31m---------------------------------------------------------------------------\u001b[0m",
      "\u001b[0;31mKeyError\u001b[0m                                  Traceback (most recent call last)",
      "\u001b[0;32m<ipython-input-24-58018f88a252>\u001b[0m in \u001b[0;36m<module>\u001b[0;34m()\u001b[0m\n\u001b[1;32m      6\u001b[0m         \u001b[0;32mcontinue\u001b[0m\u001b[0;34m\u001b[0m\u001b[0m\n\u001b[1;32m      7\u001b[0m     \u001b[0;32melse\u001b[0m\u001b[0;34m:\u001b[0m\u001b[0;34m\u001b[0m\u001b[0m\n\u001b[0;32m----> 8\u001b[0;31m         \u001b[0mnbapd\u001b[0m \u001b[0;34m=\u001b[0m \u001b[0mnbapd\u001b[0m\u001b[0;34m.\u001b[0m\u001b[0mappend\u001b[0m\u001b[0;34m(\u001b[0m\u001b[0mplayer\u001b[0m\u001b[0;34m.\u001b[0m\u001b[0mdataframe\u001b[0m\u001b[0;34m[\u001b[0m\u001b[0mfeats\u001b[0m\u001b[0;34m]\u001b[0m\u001b[0;34m.\u001b[0m\u001b[0mtail\u001b[0m\u001b[0;34m(\u001b[0m\u001b[0;36m1\u001b[0m\u001b[0;34m)\u001b[0m\u001b[0;34m)\u001b[0m\u001b[0;34m\u001b[0m\u001b[0m\n\u001b[0m\u001b[1;32m      9\u001b[0m \u001b[0;34m\u001b[0m\u001b[0m\n\u001b[1;32m     10\u001b[0m \u001b[0mnbapd\u001b[0m\u001b[0;34m.\u001b[0m\u001b[0msample\u001b[0m\u001b[0;34m(\u001b[0m\u001b[0;36m4\u001b[0m\u001b[0;34m)\u001b[0m\u001b[0;34m\u001b[0m\u001b[0m\n",
      "\u001b[0;32m~/anaconda3/lib/python3.6/site-packages/pandas/core/frame.py\u001b[0m in \u001b[0;36m__getitem__\u001b[0;34m(self, key)\u001b[0m\n\u001b[1;32m   2999\u001b[0m             \u001b[0;32mif\u001b[0m \u001b[0mis_iterator\u001b[0m\u001b[0;34m(\u001b[0m\u001b[0mkey\u001b[0m\u001b[0;34m)\u001b[0m\u001b[0;34m:\u001b[0m\u001b[0;34m\u001b[0m\u001b[0m\n\u001b[1;32m   3000\u001b[0m                 \u001b[0mkey\u001b[0m \u001b[0;34m=\u001b[0m \u001b[0mlist\u001b[0m\u001b[0;34m(\u001b[0m\u001b[0mkey\u001b[0m\u001b[0;34m)\u001b[0m\u001b[0;34m\u001b[0m\u001b[0m\n\u001b[0;32m-> 3001\u001b[0;31m             \u001b[0mindexer\u001b[0m \u001b[0;34m=\u001b[0m \u001b[0mself\u001b[0m\u001b[0;34m.\u001b[0m\u001b[0mloc\u001b[0m\u001b[0;34m.\u001b[0m\u001b[0m_convert_to_indexer\u001b[0m\u001b[0;34m(\u001b[0m\u001b[0mkey\u001b[0m\u001b[0;34m,\u001b[0m \u001b[0maxis\u001b[0m\u001b[0;34m=\u001b[0m\u001b[0;36m1\u001b[0m\u001b[0;34m,\u001b[0m \u001b[0mraise_missing\u001b[0m\u001b[0;34m=\u001b[0m\u001b[0;32mTrue\u001b[0m\u001b[0;34m)\u001b[0m\u001b[0;34m\u001b[0m\u001b[0m\n\u001b[0m\u001b[1;32m   3002\u001b[0m \u001b[0;34m\u001b[0m\u001b[0m\n\u001b[1;32m   3003\u001b[0m         \u001b[0;31m# take() does not accept boolean indexers\u001b[0m\u001b[0;34m\u001b[0m\u001b[0;34m\u001b[0m\u001b[0m\n",
      "\u001b[0;32m~/anaconda3/lib/python3.6/site-packages/pandas/core/indexing.py\u001b[0m in \u001b[0;36m_convert_to_indexer\u001b[0;34m(self, obj, axis, is_setter, raise_missing)\u001b[0m\n\u001b[1;32m   1283\u001b[0m                 \u001b[0;31m# When setting, missing keys are not allowed, even with .loc:\u001b[0m\u001b[0;34m\u001b[0m\u001b[0;34m\u001b[0m\u001b[0m\n\u001b[1;32m   1284\u001b[0m                 \u001b[0mkwargs\u001b[0m \u001b[0;34m=\u001b[0m \u001b[0;34m{\u001b[0m\u001b[0;34m\"raise_missing\"\u001b[0m\u001b[0;34m:\u001b[0m \u001b[0;32mTrue\u001b[0m \u001b[0;32mif\u001b[0m \u001b[0mis_setter\u001b[0m \u001b[0;32melse\u001b[0m \u001b[0mraise_missing\u001b[0m\u001b[0;34m}\u001b[0m\u001b[0;34m\u001b[0m\u001b[0m\n\u001b[0;32m-> 1285\u001b[0;31m                 \u001b[0;32mreturn\u001b[0m \u001b[0mself\u001b[0m\u001b[0;34m.\u001b[0m\u001b[0m_get_listlike_indexer\u001b[0m\u001b[0;34m(\u001b[0m\u001b[0mobj\u001b[0m\u001b[0;34m,\u001b[0m \u001b[0maxis\u001b[0m\u001b[0;34m,\u001b[0m \u001b[0;34m**\u001b[0m\u001b[0mkwargs\u001b[0m\u001b[0;34m)\u001b[0m\u001b[0;34m[\u001b[0m\u001b[0;36m1\u001b[0m\u001b[0;34m]\u001b[0m\u001b[0;34m\u001b[0m\u001b[0m\n\u001b[0m\u001b[1;32m   1286\u001b[0m         \u001b[0;32melse\u001b[0m\u001b[0;34m:\u001b[0m\u001b[0;34m\u001b[0m\u001b[0m\n\u001b[1;32m   1287\u001b[0m             \u001b[0;32mtry\u001b[0m\u001b[0;34m:\u001b[0m\u001b[0;34m\u001b[0m\u001b[0m\n",
      "\u001b[0;32m~/anaconda3/lib/python3.6/site-packages/pandas/core/indexing.py\u001b[0m in \u001b[0;36m_get_listlike_indexer\u001b[0;34m(self, key, axis, raise_missing)\u001b[0m\n\u001b[1;32m   1090\u001b[0m \u001b[0;34m\u001b[0m\u001b[0m\n\u001b[1;32m   1091\u001b[0m         self._validate_read_indexer(\n\u001b[0;32m-> 1092\u001b[0;31m             \u001b[0mkeyarr\u001b[0m\u001b[0;34m,\u001b[0m \u001b[0mindexer\u001b[0m\u001b[0;34m,\u001b[0m \u001b[0mo\u001b[0m\u001b[0;34m.\u001b[0m\u001b[0m_get_axis_number\u001b[0m\u001b[0;34m(\u001b[0m\u001b[0maxis\u001b[0m\u001b[0;34m)\u001b[0m\u001b[0;34m,\u001b[0m \u001b[0mraise_missing\u001b[0m\u001b[0;34m=\u001b[0m\u001b[0mraise_missing\u001b[0m\u001b[0;34m\u001b[0m\u001b[0m\n\u001b[0m\u001b[1;32m   1093\u001b[0m         )\n\u001b[1;32m   1094\u001b[0m         \u001b[0;32mreturn\u001b[0m \u001b[0mkeyarr\u001b[0m\u001b[0;34m,\u001b[0m \u001b[0mindexer\u001b[0m\u001b[0;34m\u001b[0m\u001b[0m\n",
      "\u001b[0;32m~/anaconda3/lib/python3.6/site-packages/pandas/core/indexing.py\u001b[0m in \u001b[0;36m_validate_read_indexer\u001b[0;34m(self, key, indexer, axis, raise_missing)\u001b[0m\n\u001b[1;32m   1175\u001b[0m                 raise KeyError(\n\u001b[1;32m   1176\u001b[0m                     \"None of [{key}] are in the [{axis}]\".format(\n\u001b[0;32m-> 1177\u001b[0;31m                         \u001b[0mkey\u001b[0m\u001b[0;34m=\u001b[0m\u001b[0mkey\u001b[0m\u001b[0;34m,\u001b[0m \u001b[0maxis\u001b[0m\u001b[0;34m=\u001b[0m\u001b[0mself\u001b[0m\u001b[0;34m.\u001b[0m\u001b[0mobj\u001b[0m\u001b[0;34m.\u001b[0m\u001b[0m_get_axis_name\u001b[0m\u001b[0;34m(\u001b[0m\u001b[0maxis\u001b[0m\u001b[0;34m)\u001b[0m\u001b[0;34m\u001b[0m\u001b[0m\n\u001b[0m\u001b[1;32m   1178\u001b[0m                     )\n\u001b[1;32m   1179\u001b[0m                 )\n",
      "\u001b[0;31mKeyError\u001b[0m: \"None of [Index(['player_id', 'field_goal_percentage', 'three_point_percentage'], dtype='object')] are in the [columns]\""
     ]
    }
   ],
   "source": [
    "feats = ['player_id', 'field_goal_percentage', 'three_point_percentage']\n",
    "nbapd = Player('walljo01').dataframe[feats].tail(1)\n",
    "for squid in squadIDs:\n",
    "    player = Player(squid)\n",
    "    if squid == 'walljo01': \n",
    "        continue\n",
    "    else:\n",
    "        nbapd = nbapd.append(player.dataframe[feats].tail(1))\n",
    "        \n",
    "nbapd.sample(4)\n"
   ]
  },
  {
   "cell_type": "code",
   "execution_count": null,
   "metadata": {},
   "outputs": [],
   "source": []
  },
  {
   "cell_type": "code",
   "execution_count": null,
   "metadata": {},
   "outputs": [],
   "source": [
    "# table1 = Table('nba_teams', meta,\n",
    "#                DB.Column('abbr', DB.String(4), primary_key=True, unique=True, nullable=False),\n",
    "#                DB.Column('name', DB.String(30), unique=True, nullable=False))\n",
    "\n",
    "# table2 = Table('nba_players', meta,\n",
    "#                DB.Column('ref_id', DB.String(10), primary_key=True, unique=True, nullable=False),\n",
    "#                DB.Column('name', DB.String(30), nullable=False),\n",
    "#                DB.Column('Team', DB.String(4), DB.ForeignKey(\"nbadb.nba_teams.abbr\"), nullable=False),\n",
    "#                DB.Column('FG_Pct', DB.Float, nullable=False), \n",
    "#                DB.Column('TP_Pct',DB.Float, nullable=False),\n",
    "#                DB.Column('FT_Pct', DB.Float, nullable=False),\n",
    "#                DB.Column('Min_per_game', DB.Float, nullable=False),\n",
    "#                DB.Column('Pts_per_game', DB.Float, nullable=False),\n",
    "#                DB.Column('TRB_per_game', DB.Float, nullable=False),\n",
    "#                DB.Column('Asts_per_game', DB.Float, nullable=False),\n",
    "#                DB.Column('WS_per_game', DB.Float, nullable=False),\n",
    "#                DB.Column('BPM', DB.Float, nullable=False),\n",
    "#                DB.Column('VORP', DB.Float, nullable=False))\n",
    "\n",
    "# meta.crteate_all()"
   ]
  }
 ],
 "metadata": {
  "kernelspec": {
   "display_name": "Python 3",
   "language": "python",
   "name": "python3"
  },
  "language_info": {
   "codemirror_mode": {
    "name": "ipython",
    "version": 3
   },
   "file_extension": ".py",
   "mimetype": "text/x-python",
   "name": "python",
   "nbconvert_exporter": "python",
   "pygments_lexer": "ipython3",
   "version": "3.6.5"
  }
 },
 "nbformat": 4,
 "nbformat_minor": 2
}
